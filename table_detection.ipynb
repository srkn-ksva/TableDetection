{
  "nbformat": 4,
  "nbformat_minor": 0,
  "metadata": {
    "colab": {
      "name": "table_detection.ipynb",
      "provenance": [],
      "collapsed_sections": [],
      "authorship_tag": "ABX9TyMyuByvS1WCEdZGJW3Tgp0E",
      "include_colab_link": true
    },
    "kernelspec": {
      "name": "python3",
      "display_name": "Python 3"
    }
  },
  "cells": [
    {
      "cell_type": "markdown",
      "metadata": {
        "id": "view-in-github",
        "colab_type": "text"
      },
      "source": [
        "<a href=\"https://colab.research.google.com/github/srkn-ksva/TableDetection/blob/main/table_detection.ipynb\" target=\"_parent\"><img src=\"https://colab.research.google.com/assets/colab-badge.svg\" alt=\"Open In Colab\"/></a>"
      ]
    },
    {
      "cell_type": "code",
      "metadata": {
        "id": "A7tOg5XbxIjv"
      },
      "source": [
        "!pip install torch==1.6.0+cu100 torchvision==0.7.0+cu100 -f https://download.pytorch.org/whl/torch_stable.html\r\n",
        "!pip install -q mmcv terminaltables\r\n",
        "!pip install mmcv==0.4.3\r\n",
        "!git clone --branch v1.2.0 'https://github.com/open-mmlab/mmdetection.git'\r\n",
        "%cd \"mmdetection\"\r\n",
        "!pip install -r \"/content/mmdetection/requirements/optional.txt\"\r\n",
        "!python setup.py install\r\n",
        "!python setup.py develop\r\n",
        "!pip install -r {\"requirements.txt\"}\r\n",
        "!pip install pillow==6.2.1 "
      ],
      "execution_count": null,
      "outputs": []
    },
    {
      "cell_type": "code",
      "metadata": {
        "id": "kE0kdg__xxC6"
      },
      "source": [
        "!git clone https://github.com/srkn-ksva/TableDetection.git"
      ],
      "execution_count": null,
      "outputs": []
    },
    {
      "cell_type": "code",
      "metadata": {
        "id": "XmC14NVXx4sm"
      },
      "source": [
        "!gdown \"https://drive.google.com/u/0/uc?id=1-QieHkR1Q7CXuBu4fp3rYrvDG9j26eFT\""
      ],
      "execution_count": null,
      "outputs": []
    },
    {
      "cell_type": "code",
      "metadata": {
        "id": "Rm8F8IMyx9qv"
      },
      "source": [
        "from mmdet.apis import init_detector, inference_detector, show_result_pyplot\r\n",
        "import mmcv\r\n",
        "\r\n",
        "# Load model\r\n",
        "config_file = '/content/TableDetection/Config/cascade_mask_rcnn_hrnetv2p_w32_20e.py'\r\n",
        "checkpoint_file = '/content/epoch_36.pth'\r\n",
        "model = init_detector(config_file, checkpoint_file, device='cuda:0')\r\n",
        "\r\n",
        "# Test a single image \r\n",
        "img = \"/content/TableDetection/run/00008.PNG\"\r\n",
        "\r\n",
        "# Run Inference\r\n",
        "result = inference_detector(model, img)\r\n",
        "\r\n",
        "# Visualization results\r\n",
        "show_result_pyplot(img, result,('Bordered', 'cell', 'Borderless'), score_thr=0.85)"
      ],
      "execution_count": null,
      "outputs": []
    }
  ]
}