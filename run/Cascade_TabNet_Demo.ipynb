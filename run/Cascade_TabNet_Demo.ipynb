{
 "cells": [
  {
   "cell_type": "markdown",
   "metadata": {
    "colab_type": "text",
    "id": "view-in-github"
   },
   "source": [
    "<a href=\"https://colab.research.google.com/github/DevashishPrasad/CascadeTabNet/blob/master/Demo/Cascade_TabNet_Demo.ipynb\" target=\"_parent\"><img src=\"https://colab.research.google.com/assets/colab-badge.svg\" alt=\"Open In Colab\"/></a>"
   ]
  },
  {
   "cell_type": "code",
   "execution_count": null,
   "metadata": {
    "colab": {
     "base_uri": "https://localhost:8080/",
     "height": 1000
    },
    "colab_type": "code",
    "id": "UEKJ_-iyPkdg",
    "outputId": "0fd4ad77-4191-429d-c91c-98fb618bd80b"
   },
   "outputs": [],
   "source": [
    "!pip install torch===1.7.0+cu110 torchvision===0.8.1+cu110 -f https://download.pytorch.org/whl/torch_stable.html\n",
    "!pip install -q mmcv terminaltables\n",
    "!pip install mmcv==0.4.3\n",
    "!git clone --branch v1.2.0 'https://github.com/open-mmlab/mmdetection.git'\n",
    "%cd \"mmdetection\"\n",
    "!pip install -r \"/content/mmdetection/requirements/optional.txt\"\n",
    "!python setup.py install\n",
    "!python setup.py develop\n",
    "!pip install -r {\"requirements.txt\"}\n",
    "!pip install pillow==6.2.1 "
   ]
  },
  {
   "cell_type": "code",
   "execution_count": null,
   "metadata": {
    "colab": {
     "base_uri": "https://localhost:8080/",
     "height": 144
    },
    "colab_type": "code",
    "id": "3qGrF50HQZjx",
    "outputId": "eae79089-e3d3-400c-9510-7d37ac8013f5"
   },
   "outputs": [],
   "source": [
    "!git clone https://github.com/DevashishPrasad/CascadeTabNet.git"
   ]
  },
  {
   "cell_type": "code",
   "execution_count": null,
   "metadata": {
    "colab": {
     "base_uri": "https://localhost:8080/",
     "height": 90
    },
    "colab_type": "code",
    "id": "VNcfZA_bQ0ZR",
    "outputId": "9a06009d-2fad-457f-d840-3327340defa7"
   },
   "outputs": [],
   "source": [
    "!gdown \"https://drive.google.com/u/0/uc?id=1-QieHkR1Q7CXuBu4fp3rYrvDG9j26eFT\""
   ]
  },
  {
   "cell_type": "code",
   "execution_count": null,
   "metadata": {
    "colab": {
     "base_uri": "https://localhost:8080/",
     "height": 595
    },
    "colab_type": "code",
    "id": "e0P85mJJQ304",
    "outputId": "f9c7e27c-4e75-4dc6-d556-0d21bfdad27d"
   },
   "outputs": [],
   "source": [
    "from mmdet.apis import init_detector, inference_detector, show_result_pyplot\n",
    "import mmcv\n",
    "# Load model\n",
    "config_file = '/content/CascadeTabNet/Config/cascade_mask_rcnn_hrnetv2p_w32_20e.py'\n",
    "checkpoint_file = '/content/epoch_36.pth'\n",
    "model = init_detector(config_file, checkpoint_file, device='cuda:0')\n",
    "\n",
    "# Test a single image \n",
    "img = \"/content/CascadeTabNet/Demo/demo.png\"\n",
    "\n",
    "# Run Inference\n",
    "result = inference_detector(model, img)\n",
    "\n",
    "# Visualization results\n",
    "show_result_pyplot(img, result,('Bordered', 'cell', 'Borderless'), score_thr=0.85)"
   ]
  }
 ],
 "metadata": {
  "accelerator": "GPU",
  "colab": {
   "authorship_tag": "ABX9TyPBJ7C7RuUW9et68XfrlswJ",
   "include_colab_link": true,
   "name": "Cascade TabNet Demo.ipynb",
   "provenance": []
  },
  "kernelspec": {
   "display_name": "Python 3",
   "language": "python",
   "name": "python3"
  },
  "language_info": {
   "codemirror_mode": {
    "name": "ipython",
    "version": 3
   },
   "file_extension": ".py",
   "mimetype": "text/x-python",
   "name": "python",
   "nbconvert_exporter": "python",
   "pygments_lexer": "ipython3",
   "version": "3.7.4"
  }
 },
 "nbformat": 4,
 "nbformat_minor": 1
}
